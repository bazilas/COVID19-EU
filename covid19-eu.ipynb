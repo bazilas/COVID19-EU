{
 "cells": [
  {
   "cell_type": "markdown",
   "metadata": {},
   "source": [
    "# COVID19-EU"
   ]
  },
  {
   "cell_type": "markdown",
   "metadata": {},
   "source": [
    "Statistics and Forecasting for the Coronavirus disease (COVID-19) in the European Union."
   ]
  },
  {
   "cell_type": "markdown",
   "metadata": {},
   "source": [
    "## Source of Data"
   ]
  },
  {
   "cell_type": "markdown",
   "metadata": {},
   "source": [
    " Johns Hopkins CSSE Repository: [https://github.com/CSSEGISandData/COVID-19](https://github.com/CSSEGISandData/COVID-19)."
   ]
  },
  {
   "cell_type": "markdown",
   "metadata": {},
   "source": [
    "## Source of EU country names"
   ]
  },
  {
   "cell_type": "markdown",
   "metadata": {},
   "source": [
    "Official website of the European Union: [https://europa.eu/european-union/about-eu/countries_en](https://europa.eu/european-union/about-eu/countries_en)"
   ]
  },
  {
   "cell_type": "markdown",
   "metadata": {},
   "source": [
    "### Load libraries"
   ]
  },
  {
   "cell_type": "code",
   "execution_count": null,
   "metadata": {},
   "outputs": [],
   "source": [
    "import numpy as np \n",
    "import matplotlib.pyplot as plt \n",
    "import seaborn as sns\n",
    "import pandas as pd\n",
    "from statsmodels.tsa.statespace.sarimax import SARIMAX\n",
    "%matplotlib inline "
   ]
  },
  {
   "cell_type": "markdown",
   "metadata": {},
   "source": [
    "### Load Data from Johns Hopkins CSSE Repository"
   ]
  },
  {
   "cell_type": "code",
   "execution_count": null,
   "metadata": {},
   "outputs": [],
   "source": [
    "confirmed_data = pd.read_csv('https://raw.githubusercontent.com/CSSEGISandData/COVID-19/master/csse_covid_19_data/csse_covid_19_time_series/time_series_19-covid-Confirmed.csv')\n",
    "fields = confirmed_data.keys()\n",
    "confirmed = confirmed_data.loc[:, fields[4]:fields[-1]]"
   ]
  },
  {
   "cell_type": "markdown",
   "metadata": {},
   "source": [
    "### EU Country Names"
   ]
  },
  {
   "cell_type": "code",
   "execution_count": null,
   "metadata": {},
   "outputs": [],
   "source": [
    "EU_Countries = ['Austria', 'Belgium', 'Bulgaria', 'Croatia', 'Cyprus', 'Czechia', 'Denmark', 'Estonia', 'Finland', 'France',\n",
    "'Germany', 'Greece', 'Hungary', 'Ireland', 'Italy', 'Latvia', 'Lithuania', 'Luxembourg', 'Malta', 'Netherlands', 'Poland',\n",
    "'Portugal', 'Romania', 'Slovakia', 'Slovenia', 'Spain', 'Sweden']"
   ]
  },
  {
   "cell_type": "code",
   "execution_count": null,
   "metadata": {},
   "outputs": [],
   "source": [
    "# Per day infections for a country (function)\n",
    "def get_per_day_confirmed(confirmed, fields):\n",
    "    days = []\n",
    "    confirmed_per_day = []\n",
    "    for i in confirmed.loc[:, fields[4]:fields[-1]]:\n",
    "        days.append(i[0:-3])\n",
    "        confirmed_per_day.append(confirmed[i].sum())\n",
    "    #convert to numpy\n",
    "    confirmed_per_day = np.array(confirmed_per_day).reshape(-1,1)\n",
    "    return days, confirmed_per_day"
   ]
  },
  {
   "cell_type": "code",
   "execution_count": null,
   "metadata": {},
   "outputs": [],
   "source": [
    "# Per day infections for a country (instances)\n",
    "confirmed_per_day_EU = []\n",
    "confirmed_EU_sum = []\n",
    "confirmed_week_forecast = []\n",
    "for c in EU_Countries:\n",
    "    confirmed = confirmed_data[confirmed_data['Country/Region'] == c]\n",
    "    days, confirmed_per_day = get_per_day_confirmed (confirmed, fields)\n",
    "    confirmed_EU_sum.append(int(confirmed_per_day.sum()))\n",
    "    confirmed_per_day_EU.append(confirmed_per_day)\n",
    "\n",
    "    data = confirmed_per_day.flatten()\n",
    "    model = SARIMAX(data, trend='c', order=(1, 1, 1), enforce_stationarity=False, enforce_invertibility=False)\n",
    "    model_fit = model.fit(disp=False, transparams=False)\n",
    "    confirmed_week_forecast.append(model_fit.predict(len(data), len(data)+6, typ='levels'))\n",
    "\n",
    "    # Sorted for visualization from most confirmed to less confirmed\n",
    "confirmed_per_day_EU_idx = sorted(range(len(confirmed_EU_sum)), key=lambda k: confirmed_EU_sum[k])"
   ]
  },
  {
   "cell_type": "markdown",
   "metadata": {},
   "source": [
    "### 10 Most infected EU countries"
   ]
  },
  {
   "cell_type": "code",
   "execution_count": null,
   "metadata": {},
   "outputs": [],
   "source": [
    "# forecasting days\n",
    "days_with_forecast = ['+' + str(i+1) for i in range(confirmed_week_forecast[0].shape[0])]\n",
    "\n",
    "sns.set()\n",
    "plt.rcParams['figure.figsize'] = [15, 8]\n",
    "for cnt, i in enumerate(reversed(confirmed_per_day_EU_idx)):\n",
    "    plt.plot(days, confirmed_per_day_EU[i], label=EU_Countries[i])\n",
    "    plt.scatter(days_with_forecast, confirmed_week_forecast[i], s=10, marker='o')\n",
    "\n",
    "    if cnt == 10:\n",
    "        break\n",
    "\n",
    "plt.legend(loc='upper left')\n",
    "plt.xticks(fontsize=9, rotation=90)\n",
    "plt.tight_layout()"
   ]
  },
  {
   "cell_type": "markdown",
   "metadata": {},
   "source": [
    "### All EU contries"
   ]
  },
  {
   "cell_type": "code",
   "execution_count": null,
   "metadata": {},
   "outputs": [],
   "source": [
    "plt.rcParams['figure.figsize'] = [15, 8]\n",
    "for cnt, i in enumerate(reversed(confirmed_per_day_EU_idx)):\n",
    "    plt.plot(days, confirmed_per_day_EU[i], label=EU_Countries[i])\n",
    "    plt.scatter(days_with_forecast, confirmed_week_forecast[i], s=10, marker='o')\n",
    "\n",
    "plt.ylabel('COVID-19 Infected')\n",
    "plt.xlabel('Date')\n",
    "plt.title('The infected EU countries and 7 days forecasting (Johns Hopkins CSSE data source)')\n",
    "plt.legend(loc='upper left', fontsize=8)\n",
    "plt.xticks(fontsize=8, rotation=90)\n",
    "plt.tight_layout()\n",
    "plt.show()"
   ]
  }
 ],
 "metadata": {
  "file_extension": ".py",
  "kernelspec": {
   "display_name": "Python 3",
   "language": "python",
   "name": "python3"
  },
  "language_info": {
   "codemirror_mode": {
    "name": "ipython",
    "version": 3
   },
   "file_extension": ".py",
   "mimetype": "text/x-python",
   "name": "python",
   "nbconvert_exporter": "python",
   "pygments_lexer": "ipython3",
   "version": "3.7.6"
  },
  "mimetype": "text/x-python",
  "name": "python",
  "npconvert_exporter": "python",
  "pygments_lexer": "ipython3",
  "version": 3
 },
 "nbformat": 4,
 "nbformat_minor": 2
}
