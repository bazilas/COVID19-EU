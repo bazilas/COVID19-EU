{
 "cells": [
  {
   "cell_type": "markdown",
   "metadata": {},
   "source": [
    "# COVID19-EU"
   ]
  },
  {
   "cell_type": "markdown",
   "metadata": {},
   "source": [
    "Statistics and Forecasting for the Coronavirus disease (COVID-19) in the European Union."
   ]
  },
  {
   "cell_type": "markdown",
   "metadata": {},
   "source": [
    "## Source of Data"
   ]
  },
  {
   "cell_type": "markdown",
   "metadata": {},
   "source": [
    " Johns Hopkins CSSE Repository: [https://github.com/CSSEGISandData/COVID-19](https://github.com/CSSEGISandData/COVID-19)."
   ]
  },
  {
   "cell_type": "markdown",
   "metadata": {},
   "source": [
    "## Source of EU country names"
   ]
  },
  {
   "cell_type": "markdown",
   "metadata": {},
   "source": [
    "Official website of the European Union: [https://europa.eu/european-union/about-eu/countries_en](https://europa.eu/european-union/about-eu/countries_en)"
   ]
  },
  {
   "cell_type": "markdown",
   "metadata": {},
   "source": [
    "### Load libraries"
   ]
  },
  {
   "cell_type": "code",
   "execution_count": null,
   "metadata": {},
   "outputs": [],
   "source": [
    "import numpy as np \n",
    "import matplotlib.pyplot as plt \n",
    "import seaborn as sns\n",
    "import pandas as pd\n",
    "from statsmodels.tsa.statespace.sarimax import SARIMAX\n",
    "%matplotlib inline "
   ]
  },
  {
   "cell_type": "markdown",
   "metadata": {},
   "source": [
    "### Load Data from Johns Hopkins CSSE Repository"
   ]
  },
  {
   "cell_type": "code",
   "execution_count": null,
   "metadata": {},
   "outputs": [],
   "source": [
    "confirmed_data = pd.read_csv('https://raw.githubusercontent.com/CSSEGISandData/COVID-19/master/csse_covid_19_data/csse_covid_19_time_series/time_series_19-covid-Confirmed.csv')\n",
    "deaths_data = pd.read_csv('https://raw.githubusercontent.com/CSSEGISandData/COVID-19/master/csse_covid_19_data/csse_covid_19_time_series/time_series_19-covid-Deaths.csv')\n",
    "fields = confirmed_data.keys()"
   ]
  },
  {
   "cell_type": "markdown",
   "metadata": {},
   "source": [
    "### EU Country Names"
   ]
  },
  {
   "cell_type": "code",
   "execution_count": null,
   "metadata": {},
   "outputs": [],
   "source": [
    "EU_Countries = ['Austria', 'Belgium', 'Bulgaria', 'Croatia', 'Cyprus', 'Czechia', 'Denmark', 'Estonia', 'Finland', 'France',\n",
    "'Germany', 'Greece', 'Hungary', 'Ireland', 'Italy', 'Latvia', 'Lithuania', 'Luxembourg', 'Malta', 'Netherlands', 'Poland',\n",
    "'Portugal', 'Romania', 'Slovakia', 'Slovenia', 'Spain', 'Sweden']"
   ]
  },
  {
   "cell_type": "code",
   "execution_count": null,
   "metadata": {},
   "outputs": [],
   "source": [
    "# Per day infections for a country (function)\n",
    "def get_per_day_data(data, fields):\n",
    "    days = []\n",
    "    data_per_day = []\n",
    "    for i in data.loc[:, fields[4]:fields[-1]]:\n",
    "        days.append(i[0:-3])\n",
    "        data_per_day.append(data[i].sum())\n",
    "    #convert to numpy\n",
    "    data_per_day = np.array(data_per_day).reshape(-1,1)\n",
    "    return days, data_per_day\n",
    "\n",
    "# Per day infections for a country (function)\n",
    "def get_per_day_forecast(data_loaded, fields, EU_Countries, data_per_day_EU, data_EU_sum, data_week_forecast):\n",
    "    for c in EU_Countries:\n",
    "        instances = data_loaded[data_loaded['Country/Region'] == c]\n",
    "        days, data_per_day = get_per_day_data (instances, fields)\n",
    "\n",
    "        # sum up the facts for plotting later sorted results\n",
    "        data_EU_sum.append(int(data_per_day.sum()))\n",
    "        data_per_day_EU.append(data_per_day)\n",
    "\n",
    "        data = data_per_day.flatten()\n",
    "        model = SARIMAX(data, trend='c', order=(1, 1, 1), enforce_stationarity=False, enforce_invertibility=False)\n",
    "        model_fit = model.fit(disp=False, transparams=False)\n",
    "        data_week_forecast.append(model_fit.predict(len(data), len(data)+6, typ='levels'))\n",
    "    return days"
   ]
  },
  {
   "cell_type": "code",
   "execution_count": null,
   "metadata": {},
   "outputs": [],
   "source": [
    "# Per day infections and forecasting\n",
    "confirmed_per_day_EU = []\n",
    "confirmed_EU_sum = []\n",
    "confirmed_week_forecast = []\n",
    "days = get_per_day_forecast(confirmed_data, fields, EU_Countries, confirmed_per_day_EU, confirmed_EU_sum, confirmed_week_forecast)\n",
    "\n",
    "# Per day deaths and forecasting\n",
    "deaths_per_day_EU = []\n",
    "deaths_EU_sum = []\n",
    "deaths_week_forecast = []\n",
    "days = get_per_day_forecast(deaths_data, fields, EU_Countries, deaths_per_day_EU, deaths_EU_sum, deaths_week_forecast)\n",
    "\n",
    "# Sorted for visualization from most confirmed / deaths to less confirmed /deaths\n",
    "confirmed_per_day_EU_idx = sorted(range(len(confirmed_EU_sum)), key=lambda k: confirmed_EU_sum[k])\n",
    "deaths_per_day_EU_idx = sorted(range(len(deaths_EU_sum)), key=lambda k: deaths_EU_sum[k])"
   ]
  },
  {
   "cell_type": "code",
   "execution_count": null,
   "metadata": {},
   "outputs": [],
   "source": [
    "def plot_statistics(x_label_text, y_label_text, plt_title, fig_dim1, fig_dim2, colors, legend_font_size, \n",
    "EU_Countries, sorted_index, data_per_day, days, days_with_forecast, forecast_data, top_n):\n",
    "    plt.rcParams['figure.figsize'] = [fig_dim1, fig_dim2]\n",
    "    for cnt, i in enumerate(reversed(sorted_index)):\n",
    "        plt.plot(days, data_per_day[i], label=EU_Countries[i], color=colors[cnt])\n",
    "        plt.scatter(days_with_forecast, forecast_data[i], s=10, marker='o', color=colors[cnt])\n",
    "\n",
    "        if cnt == top_n:\n",
    "            break\n",
    "    plt.ylabel(y_label_text)\n",
    "    plt.xlabel(x_label_text)\n",
    "    plt.title(plt_title)\n",
    "    plt.legend(loc='upper left')\n",
    "    plt.xticks(fontsize=legend_font_size, rotation=90)\n",
    "    plt.tight_layout()\n",
    "    plt.show()\n",
    "\n",
    "# forecasting days\n",
    "days_with_forecast = ['+' + str(i+1) for i in range(confirmed_week_forecast[0].shape[0])]\n",
    "\n",
    "sns.set()\n",
    "np.random.seed(55)\n",
    "colors = plt.cm.hsv(np.random.rand(27,))"
   ]
  },
  {
   "cell_type": "markdown",
   "metadata": {},
   "source": [
    "### 10 Most infected EU countries"
   ]
  },
  {
   "cell_type": "code",
   "execution_count": null,
   "metadata": {},
   "outputs": [],
   "source": [
    "# Infected top-10\n",
    "plot_statistics('Date', 'COVID-19 Infected (Cumulative)', 'The 10 most infected EU countries and 7 days forecasting (Johns Hopkins CSSE data source)',\n",
    " 10, 5, colors, 8, EU_Countries, confirmed_per_day_EU_idx, confirmed_per_day_EU, days, days_with_forecast, confirmed_week_forecast, 10)"
   ]
  },
  {
   "cell_type": "markdown",
   "metadata": {},
   "source": [
    "### All EU contries"
   ]
  },
  {
   "cell_type": "code",
   "execution_count": null,
   "metadata": {},
   "outputs": [],
   "source": [
    "# Infected all\n",
    "plot_statistics('Date', 'COVID-19 Infected (Cumulative)', 'The infected EU countries and 7 days forecasting (Johns Hopkins CSSE data source)',\n",
    " 15, 8, colors, 8, EU_Countries, confirmed_per_day_EU_idx, confirmed_per_day_EU, days, days_with_forecast, confirmed_week_forecast, len(confirmed_per_day_EU_idx))"
   ]
  },
  {
   "cell_type": "markdown",
   "metadata": {},
   "source": [
    "### 10 EU countries with most deaths"
   ]
  },
  {
   "cell_type": "code",
   "execution_count": null,
   "metadata": {},
   "outputs": [],
   "source": [
    "# Deaths top-10\n",
    "plot_statistics('Date', 'COVID-19 Deaths (Cumulative)', 'The first 10 EU countries with most deaths and 7 days forecasting (Johns Hopkins CSSE data source)',\n",
    " 10, 5, colors, 8, EU_Countries, deaths_per_day_EU_idx, deaths_per_day_EU, days, days_with_forecast, deaths_week_forecast, 10)"
   ]
  },
  {
   "cell_type": "markdown",
   "metadata": {},
   "source": [
    "### EU countries deaths"
   ]
  },
  {
   "cell_type": "code",
   "execution_count": null,
   "metadata": {},
   "outputs": [],
   "source": [
    "# Deaths all EU\n",
    "plot_statistics('Date', 'COVID-19 Deaths (Cumulative)', 'The deaths of the EU countries and 7 days forecasting (Johns Hopkins CSSE data source)',\n",
    " 15, 8, colors, 8, EU_Countries, deaths_per_day_EU_idx, deaths_per_day_EU, days, days_with_forecast, deaths_week_forecast, len(deaths_per_day_EU_idx))"
   ]
  }
 ],
 "metadata": {
  "file_extension": ".py",
  "kernelspec": {
   "display_name": "Python 3",
   "language": "python",
   "name": "python3"
  },
  "language_info": {
   "codemirror_mode": {
    "name": "ipython",
    "version": 3
   },
   "file_extension": ".py",
   "mimetype": "text/x-python",
   "name": "python",
   "nbconvert_exporter": "python",
   "pygments_lexer": "ipython3",
   "version": "3.7.6"
  },
  "mimetype": "text/x-python",
  "name": "python",
  "npconvert_exporter": "python",
  "pygments_lexer": "ipython3",
  "version": 3
 },
 "nbformat": 4,
 "nbformat_minor": 2
}
